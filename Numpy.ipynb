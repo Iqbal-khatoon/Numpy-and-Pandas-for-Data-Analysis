{
  "nbformat": 4,
  "nbformat_minor": 0,
  "metadata": {
    "colab": {
      "name": "Numpy.ipynb",
      "provenance": [],
      "include_colab_link": true
    },
    "kernelspec": {
      "name": "python3",
      "display_name": "Python 3"
    },
    "language_info": {
      "name": "python"
    }
  },
  "cells": [
    {
      "cell_type": "markdown",
      "metadata": {
        "id": "view-in-github",
        "colab_type": "text"
      },
      "source": [
        "<a href=\"https://colab.research.google.com/github/Iqbal-khatoon/Numpy-and-Pandas-for-Data-Analysis/blob/master/Numpy.ipynb\" target=\"_parent\"><img src=\"https://colab.research.google.com/assets/colab-badge.svg\" alt=\"Open In Colab\"/></a>"
      ]
    },
    {
      "cell_type": "markdown",
      "metadata": {
        "id": "1wnILBICt1Ld"
      },
      "source": [
        "**Hands On!**"
      ]
    },
    {
      "cell_type": "code",
      "metadata": {
        "id": "L4b5RXFxuA6z"
      },
      "source": [
        "import numpy as np"
      ],
      "execution_count": null,
      "outputs": []
    },
    {
      "cell_type": "markdown",
      "metadata": {
        "id": "vfrqo7oWuQKN"
      },
      "source": [
        "Basics of Numpy Arrays"
      ]
    },
    {
      "cell_type": "code",
      "metadata": {
        "colab": {
          "base_uri": "https://localhost:8080/"
        },
        "id": "ETUyaSD8uWcc",
        "outputId": "87d5b413-1ea9-43c4-ad38-9c63fc2f5a81"
      },
      "source": [
        "x = np.array([1,2,3,4, 5,6])\n",
        "\n",
        "#accessing individual elements\n",
        "x[0] , x[1] , x[2]"
      ],
      "execution_count": null,
      "outputs": [
        {
          "output_type": "execute_result",
          "data": {
            "text/plain": [
              "(1, 2, 3)"
            ]
          },
          "metadata": {},
          "execution_count": 10
        }
      ]
    },
    {
      "cell_type": "code",
      "metadata": {
        "colab": {
          "base_uri": "https://localhost:8080/"
        },
        "id": "VqQ0GV3M2KlU",
        "outputId": "256d6111-2242-4ec6-8687-fb7c43ab47b0"
      },
      "source": [
        "#slicing\n",
        "x = np.array([1,2,3,4,5,6])\n",
        "\n",
        "print(x[0:])\n",
        "\n",
        "print(x[1:3])\n",
        "\n",
        "print(x[1:-1])\n",
        "print(x[:])\n",
        "print(x[2::2])"
      ],
      "execution_count": null,
      "outputs": [
        {
          "output_type": "stream",
          "name": "stdout",
          "text": [
            "[1 2 3 4 5 6]\n",
            "[2 3]\n",
            "[2 3 4 5]\n",
            "[1 2 3 4 5 6]\n",
            "[3 5]\n"
          ]
        }
      ]
    },
    {
      "cell_type": "code",
      "metadata": {
        "colab": {
          "base_uri": "https://localhost:8080/"
        },
        "id": "WYtcl3k76ESs",
        "outputId": "2cb66b4a-f35a-415c-86cc-962bcdaf1062"
      },
      "source": [
        "y = np.array([0, .5, 1, 1.5, 2])\n",
        "#accessing multiple elements\n",
        "y[0], y[2], y[-1]"
      ],
      "execution_count": null,
      "outputs": [
        {
          "output_type": "execute_result",
          "data": {
            "text/plain": [
              "(0.0, 1.0, 2.0)"
            ]
          },
          "metadata": {},
          "execution_count": 28
        }
      ]
    },
    {
      "cell_type": "code",
      "metadata": {
        "colab": {
          "base_uri": "https://localhost:8080/"
        },
        "id": "833VUCKX86o0",
        "outputId": "bfa58a58-71d2-4fea-e03f-dc353c00c7e1"
      },
      "source": [
        "b = y[[0,2,-1]]\n",
        "#result is an other numpy array not an individual elements\n",
        "#fast processing again\n",
        "print(b)\n"
      ],
      "execution_count": null,
      "outputs": [
        {
          "output_type": "stream",
          "name": "stdout",
          "text": [
            "[0. 1. 2.]\n"
          ]
        }
      ]
    },
    {
      "cell_type": "markdown",
      "metadata": {
        "id": "0eXosTzm-qrt"
      },
      "source": [
        "Array Types"
      ]
    },
    {
      "cell_type": "code",
      "metadata": {
        "colab": {
          "base_uri": "https://localhost:8080/"
        },
        "id": "MSM7P8jj-PYK",
        "outputId": "019f703c-09fb-4775-f46e-c6cceb1fb551"
      },
      "source": [
        "print(x.dtype)\n",
        "print(y.dtype)"
      ],
      "execution_count": null,
      "outputs": [
        {
          "output_type": "stream",
          "name": "stdout",
          "text": [
            "int64\n",
            "float64\n"
          ]
        }
      ]
    },
    {
      "cell_type": "markdown",
      "metadata": {
        "id": "_njpXsC3_K2G"
      },
      "source": [
        "**Dimension and shapes**\n"
      ]
    },
    {
      "cell_type": "code",
      "metadata": {
        "colab": {
          "base_uri": "https://localhost:8080/"
        },
        "id": "WSv3Fc4b86l1",
        "outputId": "53ae054f-4329-4416-f547-5d024c87cab9"
      },
      "source": [
        "#two dimnesional arrays\n",
        "twod= np.array([[1,2,3],\n",
        "          [3,6,9]])\n",
        "print(twod)"
      ],
      "execution_count": null,
      "outputs": [
        {
          "output_type": "stream",
          "name": "stdout",
          "text": [
            "[[1 2 3]\n",
            " [3 6 9]]\n"
          ]
        }
      ]
    },
    {
      "cell_type": "code",
      "metadata": {
        "colab": {
          "base_uri": "https://localhost:8080/"
        },
        "id": "k0Qf3SXeAQeV",
        "outputId": "4ff58ebd-3735-4e58-cc6e-30efd0de990a"
      },
      "source": [
        "print(twod.shape)\n",
        "print(twod.ndim)\n",
        "print(twod.size)"
      ],
      "execution_count": null,
      "outputs": [
        {
          "output_type": "stream",
          "name": "stdout",
          "text": [
            "(2, 3)\n",
            "2\n",
            "6\n"
          ]
        }
      ]
    },
    {
      "cell_type": "code",
      "metadata": {
        "colab": {
          "base_uri": "https://localhost:8080/"
        },
        "id": "oiYcqtZADC9M",
        "outputId": "c0891c93-30ec-4cc7-9b16-9470ce52a2da"
      },
      "source": [
        "#square matrix\n",
        "i= np.array([\n",
        "          #   0,1,2\n",
        "             [1,2,3], #0\n",
        "             [4,5,6], #1\n",
        "             [7,8,9]  #2\n",
        "             ])\n",
        "print(i[1])\n",
        "\n",
        "print(i[2,2])"
      ],
      "execution_count": null,
      "outputs": [
        {
          "output_type": "stream",
          "name": "stdout",
          "text": [
            "[4 5 6]\n",
            "9\n"
          ]
        }
      ]
    },
    {
      "cell_type": "code",
      "metadata": {
        "id": "POVhFFpfFRWU",
        "colab": {
          "base_uri": "https://localhost:8080/"
        },
        "outputId": "390b8cc5-e34e-401b-a7da-fc5cafac41a3"
      },
      "source": [
        "#slicing\n",
        "print(i[0:2])"
      ],
      "execution_count": null,
      "outputs": [
        {
          "output_type": "stream",
          "name": "stdout",
          "text": [
            "[[1 2 3]\n",
            " [4 5 6]]\n"
          ]
        }
      ]
    },
    {
      "cell_type": "code",
      "metadata": {
        "colab": {
          "base_uri": "https://localhost:8080/"
        },
        "id": "gOiP70DRFRTr",
        "outputId": "7c0f7572-90cd-4a55-b823-ec5d5fcdb376"
      },
      "source": [
        "#all rows first two elements\n",
        "print(i[:,:2])"
      ],
      "execution_count": null,
      "outputs": [
        {
          "output_type": "stream",
          "name": "stdout",
          "text": [
            "[[1 2]\n",
            " [4 5]\n",
            " [7 8]]\n"
          ]
        }
      ]
    },
    {
      "cell_type": "code",
      "metadata": {
        "colab": {
          "base_uri": "https://localhost:8080/"
        },
        "id": "hg3AtlYWFzxx",
        "outputId": "586a7d8d-64f3-4c1b-d9aa-a0cb53820bb0"
      },
      "source": [
        "print(i[:2, :1])"
      ],
      "execution_count": null,
      "outputs": [
        {
          "output_type": "stream",
          "name": "stdout",
          "text": [
            "[[1]\n",
            " [4]]\n"
          ]
        }
      ]
    },
    {
      "cell_type": "code",
      "metadata": {
        "colab": {
          "base_uri": "https://localhost:8080/"
        },
        "id": "hSpTmp1pGZhO",
        "outputId": "409350e9-4359-435d-c5b3-16ff27331a9c"
      },
      "source": [
        "i[2] = 12\n",
        "print(i)"
      ],
      "execution_count": null,
      "outputs": [
        {
          "output_type": "stream",
          "name": "stdout",
          "text": [
            "[[ 1  2  3]\n",
            " [ 4  5  6]\n",
            " [12 12 12]]\n"
          ]
        }
      ]
    },
    {
      "cell_type": "code",
      "metadata": {
        "id": "1IA-YJ9FHARK"
      },
      "source": [
        "#sumarry statistics"
      ],
      "execution_count": null,
      "outputs": []
    },
    {
      "cell_type": "code",
      "metadata": {
        "colab": {
          "base_uri": "https://localhost:8080/"
        },
        "id": "OCUl8vDjHDw0",
        "outputId": "dcce21cf-ff2b-4e98-e0c2-ec676fb5d1f1"
      },
      "source": [
        "print(i.sum())\n",
        "print(i.mean())\n",
        "print(i.std())"
      ],
      "execution_count": null,
      "outputs": [
        {
          "output_type": "stream",
          "name": "stdout",
          "text": [
            "57\n",
            "6.333333333333333\n",
            "4.242640687119285\n"
          ]
        }
      ]
    },
    {
      "cell_type": "code",
      "metadata": {
        "colab": {
          "base_uri": "https://localhost:8080/"
        },
        "id": "MnpGfhMZHitE",
        "outputId": "ea6a5c7a-30e3-4a10-ef57-836da9fad911"
      },
      "source": [
        "j= np.array([\n",
        "          #   0,1,2\n",
        "             [1,2,3], #0\n",
        "             [4,5,6], #1\n",
        "             [7,8,9]  #2\n",
        "             ])\n",
        "\n",
        "print(j.sum(axis =0))\n",
        "print(j.sum(axis =1))"
      ],
      "execution_count": null,
      "outputs": [
        {
          "output_type": "stream",
          "name": "stdout",
          "text": [
            "[12 15 18]\n",
            "[ 6 15 24]\n"
          ]
        }
      ]
    },
    {
      "cell_type": "code",
      "metadata": {
        "colab": {
          "base_uri": "https://localhost:8080/"
        },
        "id": "Zk7t99UBKkGy",
        "outputId": "746c36b6-1997-4ce4-d442-caadd6495c5c"
      },
      "source": [
        "# Create list\n",
        "list1 = [180, 215, 210, 210, 188, 176, 209, 200]\n",
        "\n",
        "\n",
        "# Import the numpy package as np\n",
        "import numpy as np \n",
        "\n",
        "# Create a numpy array from list\n",
        "np_list= np.array(list1)\n",
        "\n",
        "np_list_new = np_list - 5\n",
        "print(np_list_new)"
      ],
      "execution_count": null,
      "outputs": [
        {
          "output_type": "stream",
          "name": "stdout",
          "text": [
            "[175 210 205 205 183 171 204 195]\n"
          ]
        }
      ]
    },
    {
      "cell_type": "code",
      "metadata": {
        "colab": {
          "base_uri": "https://localhost:8080/"
        },
        "id": "HDqiungvLsfM",
        "outputId": "2b28730e-ed73-48a1-f56d-fe315c5bc89c"
      },
      "source": [
        "print(list1)"
      ],
      "execution_count": null,
      "outputs": [
        {
          "output_type": "stream",
          "name": "stdout",
          "text": [
            "[180, 215, 210, 210, 188, 176, 209, 200]\n"
          ]
        }
      ]
    },
    {
      "cell_type": "code",
      "metadata": {
        "colab": {
          "base_uri": "https://localhost:8080/"
        },
        "id": "5DCd1ugiHH_i",
        "outputId": "67e77007-b906-42b3-86d8-254ae44388d3"
      },
      "source": [
        "# Create list\n",
        "marks = [180, 215, 210, 210, 188, 176, 209, 200]\n",
        "\n",
        "\n",
        "# Import the numpy package as np\n",
        "import numpy as np \n",
        "\n",
        "# Create a numpy array from list\n",
        "np_marks= np.array(marks)\n",
        "\n",
        "np_marks_new = np_marks * 2\n",
        "print(np_marks_new)"
      ],
      "execution_count": null,
      "outputs": [
        {
          "output_type": "stream",
          "name": "stdout",
          "text": [
            "[360 430 420 420 376 352 418 400]\n"
          ]
        }
      ]
    },
    {
      "cell_type": "code",
      "metadata": {
        "colab": {
          "base_uri": "https://localhost:8080/"
        },
        "id": "IJMHRGSLMiGr",
        "outputId": "eb2f08e6-2b7f-498a-d569-e8bac660ca6e"
      },
      "source": [
        "med = np.mean(np_marks)\n",
        "print(\"Mean: \" + str(med))"
      ],
      "execution_count": null,
      "outputs": [
        {
          "output_type": "stream",
          "name": "stdout",
          "text": [
            "Mean: 198.5\n"
          ]
        }
      ]
    },
    {
      "cell_type": "code",
      "metadata": {
        "colab": {
          "base_uri": "https://localhost:8080/"
        },
        "id": "b1yqtA02Njy6",
        "outputId": "3b2fa4a9-5df3-400b-dcc9-56b1e7eb8fbd"
      },
      "source": [
        "#last but not least performsnce is very important\n",
        "\n",
        "l1 = list(range(1000))\n",
        "#print(l1)\n",
        "a = np.arange(1000)\n",
        "print(type(a))"
      ],
      "execution_count": null,
      "outputs": [
        {
          "output_type": "stream",
          "name": "stdout",
          "text": [
            "<class 'numpy.ndarray'>\n"
          ]
        }
      ]
    },
    {
      "cell_type": "code",
      "metadata": {
        "id": "4JTvHH3PORx2",
        "colab": {
          "base_uri": "https://localhost:8080/"
        },
        "outputId": "8d870092-a9c2-4800-b7ba-5014ad401fdb"
      },
      "source": [
        "%time np.sum(a**2)"
      ],
      "execution_count": null,
      "outputs": [
        {
          "output_type": "stream",
          "name": "stdout",
          "text": [
            "CPU times: user 625 µs, sys: 97 µs, total: 722 µs\n",
            "Wall time: 652 µs\n"
          ]
        },
        {
          "output_type": "execute_result",
          "data": {
            "text/plain": [
              "332833500"
            ]
          },
          "metadata": {},
          "execution_count": 92
        }
      ]
    },
    {
      "cell_type": "code",
      "metadata": {
        "id": "UrD_xCxGORus",
        "colab": {
          "base_uri": "https://localhost:8080/"
        },
        "outputId": "4ebc4dfb-9385-48a4-aa2d-cbaf8da566ae"
      },
      "source": [
        "%time sum([x**2 for x in l1])"
      ],
      "execution_count": null,
      "outputs": [
        {
          "output_type": "stream",
          "name": "stdout",
          "text": [
            "CPU times: user 216 µs, sys: 33 µs, total: 249 µs\n",
            "Wall time: 253 µs\n"
          ]
        },
        {
          "output_type": "execute_result",
          "data": {
            "text/plain": [
              "332833500"
            ]
          },
          "metadata": {},
          "execution_count": 91
        }
      ]
    },
    {
      "cell_type": "markdown",
      "metadata": {
        "id": "pg_ZwqOquQG1"
      },
      "source": [
        ""
      ]
    }
  ]
}